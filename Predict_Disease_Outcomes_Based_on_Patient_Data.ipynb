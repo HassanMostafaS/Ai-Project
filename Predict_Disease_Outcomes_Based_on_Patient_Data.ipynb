{
 "cells": [
  {
   "cell_type": "code",
   "execution_count": 1,
   "id": "d096d0e9",
   "metadata": {
    "execution": {
     "iopub.execute_input": "2024-05-03T03:28:27.542810Z",
     "iopub.status.busy": "2024-05-03T03:28:27.541493Z",
     "iopub.status.idle": "2024-05-03T03:28:30.024253Z",
     "shell.execute_reply": "2024-05-03T03:28:30.023087Z"
    },
    "id": "2IW7uSYZSegs",
    "papermill": {
     "duration": 2.494861,
     "end_time": "2024-05-03T03:28:30.027553",
     "exception": false,
     "start_time": "2024-05-03T03:28:27.532692",
     "status": "completed"
    },
    "tags": []
   },
   "outputs": [],
   "source": [
    "import numpy as np\n",
    "import pandas as pd\n",
    "import matplotlib.pyplot as plt\n",
    "%matplotlib inline\n",
    "import sklearn\n",
    "import seaborn as sns\n",
    "from sklearn.model_selection import train_test_split\n",
    "from sklearn.metrics import accuracy_score, classification_report, confusion_matrix, precision_score, roc_auc_score"
   ]
  },
  {
   "cell_type": "code",
   "execution_count": 2,
   "id": "b63bccee",
   "metadata": {
    "execution": {
     "iopub.execute_input": "2024-05-03T03:28:30.042809Z",
     "iopub.status.busy": "2024-05-03T03:28:30.042298Z",
     "iopub.status.idle": "2024-05-03T03:28:30.066621Z",
     "shell.execute_reply": "2024-05-03T03:28:30.065615Z"
    },
    "id": "5_EGLBGBWwgs",
    "papermill": {
     "duration": 0.034663,
     "end_time": "2024-05-03T03:28:30.069025",
     "exception": false,
     "start_time": "2024-05-03T03:28:30.034362",
     "status": "completed"
    },
    "tags": []
   },
   "outputs": [],
   "source": [
    "new_df = pd.read_csv('diabetes_prediction_dataset.csv')"
   ]
  },
  {
   "cell_type": "code",
   "execution_count": 3,
   "id": "65b99983",
   "metadata": {
    "execution": {
     "iopub.execute_input": "2024-05-03T03:28:30.084938Z",
     "iopub.status.busy": "2024-05-03T03:28:30.084298Z",
     "iopub.status.idle": "2024-05-03T03:28:30.112011Z",
     "shell.execute_reply": "2024-05-03T03:28:30.110934Z"
    },
    "id": "nsXw82SLW3pn",
    "outputId": "2af94f46-a01d-4904-c633-5da611f3db36",
    "papermill": {
     "duration": 0.038365,
     "end_time": "2024-05-03T03:28:30.114520",
     "exception": false,
     "start_time": "2024-05-03T03:28:30.076155",
     "status": "completed"
    },
    "tags": []
   },
   "outputs": [
    {
     "data": {
      "text/html": [
       "<div>\n",
       "<style scoped>\n",
       "    .dataframe tbody tr th:only-of-type {\n",
       "        vertical-align: middle;\n",
       "    }\n",
       "\n",
       "    .dataframe tbody tr th {\n",
       "        vertical-align: top;\n",
       "    }\n",
       "\n",
       "    .dataframe thead th {\n",
       "        text-align: right;\n",
       "    }\n",
       "</style>\n",
       "<table border=\"1\" class=\"dataframe\">\n",
       "  <thead>\n",
       "    <tr style=\"text-align: right;\">\n",
       "      <th></th>\n",
       "      <th>gender</th>\n",
       "      <th>age</th>\n",
       "      <th>hypertension</th>\n",
       "      <th>heart_disease</th>\n",
       "      <th>smoking_history</th>\n",
       "      <th>bmi</th>\n",
       "      <th>HbA1c_level</th>\n",
       "      <th>blood_glucose_level</th>\n",
       "      <th>diabetes</th>\n",
       "    </tr>\n",
       "  </thead>\n",
       "  <tbody>\n",
       "    <tr>\n",
       "      <th>0</th>\n",
       "      <td>Female</td>\n",
       "      <td>80.0</td>\n",
       "      <td>0</td>\n",
       "      <td>1</td>\n",
       "      <td>never</td>\n",
       "      <td>25.19</td>\n",
       "      <td>6.6</td>\n",
       "      <td>140</td>\n",
       "      <td>0</td>\n",
       "    </tr>\n",
       "    <tr>\n",
       "      <th>1</th>\n",
       "      <td>Female</td>\n",
       "      <td>54.0</td>\n",
       "      <td>0</td>\n",
       "      <td>0</td>\n",
       "      <td>No Info</td>\n",
       "      <td>27.32</td>\n",
       "      <td>6.6</td>\n",
       "      <td>80</td>\n",
       "      <td>0</td>\n",
       "    </tr>\n",
       "    <tr>\n",
       "      <th>2</th>\n",
       "      <td>Male</td>\n",
       "      <td>28.0</td>\n",
       "      <td>0</td>\n",
       "      <td>0</td>\n",
       "      <td>never</td>\n",
       "      <td>27.32</td>\n",
       "      <td>5.7</td>\n",
       "      <td>158</td>\n",
       "      <td>0</td>\n",
       "    </tr>\n",
       "    <tr>\n",
       "      <th>3</th>\n",
       "      <td>Female</td>\n",
       "      <td>36.0</td>\n",
       "      <td>0</td>\n",
       "      <td>0</td>\n",
       "      <td>current</td>\n",
       "      <td>23.45</td>\n",
       "      <td>5.0</td>\n",
       "      <td>155</td>\n",
       "      <td>0</td>\n",
       "    </tr>\n",
       "    <tr>\n",
       "      <th>4</th>\n",
       "      <td>Male</td>\n",
       "      <td>76.0</td>\n",
       "      <td>1</td>\n",
       "      <td>1</td>\n",
       "      <td>current</td>\n",
       "      <td>20.14</td>\n",
       "      <td>4.8</td>\n",
       "      <td>155</td>\n",
       "      <td>0</td>\n",
       "    </tr>\n",
       "  </tbody>\n",
       "</table>\n",
       "</div>"
      ],
      "text/plain": [
       "   gender   age  hypertension  heart_disease smoking_history    bmi  \\\n",
       "0  Female  80.0             0              1           never  25.19   \n",
       "1  Female  54.0             0              0         No Info  27.32   \n",
       "2    Male  28.0             0              0           never  27.32   \n",
       "3  Female  36.0             0              0         current  23.45   \n",
       "4    Male  76.0             1              1         current  20.14   \n",
       "\n",
       "   HbA1c_level  blood_glucose_level  diabetes  \n",
       "0          6.6                  140         0  \n",
       "1          6.6                   80         0  \n",
       "2          5.7                  158         0  \n",
       "3          5.0                  155         0  \n",
       "4          4.8                  155         0  "
      ]
     },
     "execution_count": 3,
     "metadata": {},
     "output_type": "execute_result"
    }
   ],
   "source": [
    "new_df.head()"
   ]
  },
  {
   "cell_type": "code",
   "execution_count": 4,
   "id": "082835f2",
   "metadata": {},
   "outputs": [
    {
     "data": {
      "text/plain": [
       "(100000, 9)"
      ]
     },
     "execution_count": 4,
     "metadata": {},
     "output_type": "execute_result"
    }
   ],
   "source": [
    "new_df.shape"
   ]
  },
  {
   "cell_type": "code",
   "execution_count": 5,
   "id": "f95427b2",
   "metadata": {
    "execution": {
     "iopub.execute_input": "2024-05-03T03:28:30.130298Z",
     "iopub.status.busy": "2024-05-03T03:28:30.129341Z",
     "iopub.status.idle": "2024-05-03T03:28:30.156064Z",
     "shell.execute_reply": "2024-05-03T03:28:30.154875Z"
    },
    "id": "p83luNsfXC0v",
    "outputId": "8b43b9c4-4bea-4d72-a55f-8c2382336893",
    "papermill": {
     "duration": 0.037641,
     "end_time": "2024-05-03T03:28:30.158935",
     "exception": false,
     "start_time": "2024-05-03T03:28:30.121294",
     "status": "completed"
    },
    "tags": []
   },
   "outputs": [
    {
     "name": "stdout",
     "output_type": "stream",
     "text": [
      "<class 'pandas.core.frame.DataFrame'>\n",
      "RangeIndex: 100000 entries, 0 to 99999\n",
      "Data columns (total 9 columns):\n",
      " #   Column               Non-Null Count   Dtype  \n",
      "---  ------               --------------   -----  \n",
      " 0   gender               100000 non-null  object \n",
      " 1   age                  100000 non-null  float64\n",
      " 2   hypertension         100000 non-null  int64  \n",
      " 3   heart_disease        100000 non-null  int64  \n",
      " 4   smoking_history      100000 non-null  object \n",
      " 5   bmi                  100000 non-null  float64\n",
      " 6   HbA1c_level          100000 non-null  float64\n",
      " 7   blood_glucose_level  100000 non-null  int64  \n",
      " 8   diabetes             100000 non-null  int64  \n",
      "dtypes: float64(3), int64(4), object(2)\n",
      "memory usage: 6.9+ MB\n"
     ]
    }
   ],
   "source": [
    "new_df.info()"
   ]
  },
  {
   "cell_type": "code",
   "execution_count": 6,
   "id": "d57f674e",
   "metadata": {},
   "outputs": [],
   "source": [
    "new_df['gender'] = new_df['gender'].map({'Female': 0, 'Male': 1})\n",
    "new_df['smoking_history'] = new_df['smoking_history'].map({'never': 0, 'current': 1, 'former': 2, 'not current': 3, 'ever': 4})"
   ]
  },
  {
   "cell_type": "code",
   "execution_count": 7,
   "id": "4ce2e0ef",
   "metadata": {},
   "outputs": [
    {
     "data": {
      "text/html": [
       "<div>\n",
       "<style scoped>\n",
       "    .dataframe tbody tr th:only-of-type {\n",
       "        vertical-align: middle;\n",
       "    }\n",
       "\n",
       "    .dataframe tbody tr th {\n",
       "        vertical-align: top;\n",
       "    }\n",
       "\n",
       "    .dataframe thead th {\n",
       "        text-align: right;\n",
       "    }\n",
       "</style>\n",
       "<table border=\"1\" class=\"dataframe\">\n",
       "  <thead>\n",
       "    <tr style=\"text-align: right;\">\n",
       "      <th></th>\n",
       "      <th>gender</th>\n",
       "      <th>age</th>\n",
       "      <th>hypertension</th>\n",
       "      <th>heart_disease</th>\n",
       "      <th>smoking_history</th>\n",
       "      <th>bmi</th>\n",
       "      <th>HbA1c_level</th>\n",
       "      <th>blood_glucose_level</th>\n",
       "      <th>diabetes</th>\n",
       "    </tr>\n",
       "  </thead>\n",
       "  <tbody>\n",
       "    <tr>\n",
       "      <th>0</th>\n",
       "      <td>0.0</td>\n",
       "      <td>80.0</td>\n",
       "      <td>0</td>\n",
       "      <td>1</td>\n",
       "      <td>0.0</td>\n",
       "      <td>25.19</td>\n",
       "      <td>6.6</td>\n",
       "      <td>140</td>\n",
       "      <td>0</td>\n",
       "    </tr>\n",
       "    <tr>\n",
       "      <th>1</th>\n",
       "      <td>0.0</td>\n",
       "      <td>54.0</td>\n",
       "      <td>0</td>\n",
       "      <td>0</td>\n",
       "      <td>NaN</td>\n",
       "      <td>27.32</td>\n",
       "      <td>6.6</td>\n",
       "      <td>80</td>\n",
       "      <td>0</td>\n",
       "    </tr>\n",
       "    <tr>\n",
       "      <th>2</th>\n",
       "      <td>1.0</td>\n",
       "      <td>28.0</td>\n",
       "      <td>0</td>\n",
       "      <td>0</td>\n",
       "      <td>0.0</td>\n",
       "      <td>27.32</td>\n",
       "      <td>5.7</td>\n",
       "      <td>158</td>\n",
       "      <td>0</td>\n",
       "    </tr>\n",
       "    <tr>\n",
       "      <th>3</th>\n",
       "      <td>0.0</td>\n",
       "      <td>36.0</td>\n",
       "      <td>0</td>\n",
       "      <td>0</td>\n",
       "      <td>1.0</td>\n",
       "      <td>23.45</td>\n",
       "      <td>5.0</td>\n",
       "      <td>155</td>\n",
       "      <td>0</td>\n",
       "    </tr>\n",
       "    <tr>\n",
       "      <th>4</th>\n",
       "      <td>1.0</td>\n",
       "      <td>76.0</td>\n",
       "      <td>1</td>\n",
       "      <td>1</td>\n",
       "      <td>1.0</td>\n",
       "      <td>20.14</td>\n",
       "      <td>4.8</td>\n",
       "      <td>155</td>\n",
       "      <td>0</td>\n",
       "    </tr>\n",
       "  </tbody>\n",
       "</table>\n",
       "</div>"
      ],
      "text/plain": [
       "   gender   age  hypertension  heart_disease  smoking_history    bmi  \\\n",
       "0     0.0  80.0             0              1              0.0  25.19   \n",
       "1     0.0  54.0             0              0              NaN  27.32   \n",
       "2     1.0  28.0             0              0              0.0  27.32   \n",
       "3     0.0  36.0             0              0              1.0  23.45   \n",
       "4     1.0  76.0             1              1              1.0  20.14   \n",
       "\n",
       "   HbA1c_level  blood_glucose_level  diabetes  \n",
       "0          6.6                  140         0  \n",
       "1          6.6                   80         0  \n",
       "2          5.7                  158         0  \n",
       "3          5.0                  155         0  \n",
       "4          4.8                  155         0  "
      ]
     },
     "execution_count": 7,
     "metadata": {},
     "output_type": "execute_result"
    }
   ],
   "source": [
    "new_df.head()"
   ]
  },
  {
   "cell_type": "code",
   "execution_count": 8,
   "id": "2e458c69",
   "metadata": {
    "execution": {
     "iopub.execute_input": "2024-05-03T03:28:30.407415Z",
     "iopub.status.busy": "2024-05-03T03:28:30.406552Z",
     "iopub.status.idle": "2024-05-03T03:28:30.417112Z",
     "shell.execute_reply": "2024-05-03T03:28:30.415999Z"
    },
    "id": "8svQ-fyLQpcn",
    "outputId": "c81fbb29-ad6d-4b57-b689-d2258a6d0ebf",
    "papermill": {
     "duration": 0.024866,
     "end_time": "2024-05-03T03:28:30.419367",
     "exception": false,
     "start_time": "2024-05-03T03:28:30.394501",
     "status": "completed"
    },
    "tags": []
   },
   "outputs": [
    {
     "data": {
      "text/plain": [
       "diabetes\n",
       "0    91500\n",
       "1     8500\n",
       "Name: count, dtype: int64"
      ]
     },
     "execution_count": 8,
     "metadata": {},
     "output_type": "execute_result"
    }
   ],
   "source": [
    "new_df['diabetes'].value_counts()"
   ]
  },
  {
   "cell_type": "code",
   "execution_count": 9,
   "id": "60b6cab8",
   "metadata": {
    "execution": {
     "iopub.execute_input": "2024-05-03T03:28:30.437594Z",
     "iopub.status.busy": "2024-05-03T03:28:30.437218Z",
     "iopub.status.idle": "2024-05-03T03:28:30.587440Z",
     "shell.execute_reply": "2024-05-03T03:28:30.586291Z"
    },
    "id": "0yjNNS_-Q3zI",
    "outputId": "f213e9e8-dca9-4ef4-de72-dcaaf892b418",
    "papermill": {
     "duration": 0.163098,
     "end_time": "2024-05-03T03:28:30.590349",
     "exception": false,
     "start_time": "2024-05-03T03:28:30.427251",
     "status": "completed"
    },
    "scrolled": true,
    "tags": []
   },
   "outputs": [
    {
     "data": {
      "image/png": "[encoded data removed]",
      "text/plain": [
       "<Figure size 640x480 with 1 Axes>"
      ]
     },
     "metadata": {},
     "output_type": "display_data"
    }
   ],
   "source": [
    "sns.countplot(x=\"diabetes\",data=new_df, palette=\"Reds\")\n",
    "plt.show()"
   ]
  },
  {
   "cell_type": "code",
   "execution_count": 10,
   "id": "9e2727c5",
   "metadata": {
    "execution": {
     "iopub.execute_input": "2024-05-03T03:28:30.613372Z",
     "iopub.status.busy": "2024-05-03T03:28:30.612241Z",
     "iopub.status.idle": "2024-05-03T03:28:30.617357Z",
     "shell.execute_reply": "2024-05-03T03:28:30.616567Z"
    },
    "id": "blWMl5o5aFaE",
    "papermill": {
     "duration": 0.016431,
     "end_time": "2024-05-03T03:28:30.619495",
     "exception": false,
     "start_time": "2024-05-03T03:28:30.603064",
     "status": "completed"
    },
    "tags": []
   },
   "outputs": [],
   "source": [
    "new_df.dropna(inplace = True)"
   ]
  },
  {
   "cell_type": "code",
   "execution_count": 11,
   "id": "11702c53",
   "metadata": {
    "execution": {
     "iopub.execute_input": "2024-05-03T03:28:30.669492Z",
     "iopub.status.busy": "2024-05-03T03:28:30.668356Z",
     "iopub.status.idle": "2024-05-03T03:28:30.676004Z",
     "shell.execute_reply": "2024-05-03T03:28:30.675135Z"
    },
    "id": "Df2w5qlfRBiZ",
    "papermill": {
     "duration": 0.019105,
     "end_time": "2024-05-03T03:28:30.678297",
     "exception": false,
     "start_time": "2024-05-03T03:28:30.659192",
     "status": "completed"
    },
    "tags": []
   },
   "outputs": [],
   "source": [
    "X = new_df.drop('diabetes', axis=1)  \n",
    "y = new_df['diabetes']               "
   ]
  },
  {
   "cell_type": "code",
   "execution_count": 12,
   "id": "2256d044",
   "metadata": {
    "execution": {
     "iopub.execute_input": "2024-05-03T03:28:31.346712Z",
     "iopub.status.busy": "2024-05-03T03:28:31.345635Z",
     "iopub.status.idle": "2024-05-03T03:28:31.380368Z",
     "shell.execute_reply": "2024-05-03T03:28:31.379261Z"
    },
    "id": "cF3ggJixaM7-",
    "outputId": "b70040d3-3a05-4ead-db8d-066049ff7e0f",
    "papermill": {
     "duration": 0.04667,
     "end_time": "2024-05-03T03:28:31.382620",
     "exception": false,
     "start_time": "2024-05-03T03:28:31.335950",
     "status": "completed"
    },
    "tags": []
   },
   "outputs": [
    {
     "data": {
      "text/html": [
       "<div>\n",
       "<style scoped>\n",
       "    .dataframe tbody tr th:only-of-type {\n",
       "        vertical-align: middle;\n",
       "    }\n",
       "\n",
       "    .dataframe tbody tr th {\n",
       "        vertical-align: top;\n",
       "    }\n",
       "\n",
       "    .dataframe thead th {\n",
       "        text-align: right;\n",
       "    }\n",
       "</style>\n",
       "<table border=\"1\" class=\"dataframe\">\n",
       "  <thead>\n",
       "    <tr style=\"text-align: right;\">\n",
       "      <th></th>\n",
       "      <th>gender</th>\n",
       "      <th>age</th>\n",
       "      <th>hypertension</th>\n",
       "      <th>heart_disease</th>\n",
       "      <th>smoking_history</th>\n",
       "      <th>bmi</th>\n",
       "      <th>HbA1c_level</th>\n",
       "      <th>blood_glucose_level</th>\n",
       "      <th>diabetes</th>\n",
       "    </tr>\n",
       "  </thead>\n",
       "  <tbody>\n",
       "    <tr>\n",
       "      <th>count</th>\n",
       "      <td>64172.000000</td>\n",
       "      <td>64172.000000</td>\n",
       "      <td>64172.000000</td>\n",
       "      <td>64172.000000</td>\n",
       "      <td>64172.000000</td>\n",
       "      <td>64172.000000</td>\n",
       "      <td>64172.000000</td>\n",
       "      <td>64172.000000</td>\n",
       "      <td>64172.000000</td>\n",
       "    </tr>\n",
       "    <tr>\n",
       "      <th>mean</th>\n",
       "      <td>0.394565</td>\n",
       "      <td>46.547268</td>\n",
       "      <td>0.097909</td>\n",
       "      <td>0.047045</td>\n",
       "      <td>0.986708</td>\n",
       "      <td>28.424262</td>\n",
       "      <td>5.564279</td>\n",
       "      <td>139.629792</td>\n",
       "      <td>0.109799</td>\n",
       "    </tr>\n",
       "    <tr>\n",
       "      <th>std</th>\n",
       "      <td>0.488761</td>\n",
       "      <td>19.539695</td>\n",
       "      <td>0.297194</td>\n",
       "      <td>0.211738</td>\n",
       "      <td>1.286545</td>\n",
       "      <td>6.515975</td>\n",
       "      <td>1.095535</td>\n",
       "      <td>42.166693</td>\n",
       "      <td>0.312641</td>\n",
       "    </tr>\n",
       "    <tr>\n",
       "      <th>min</th>\n",
       "      <td>0.000000</td>\n",
       "      <td>0.160000</td>\n",
       "      <td>0.000000</td>\n",
       "      <td>0.000000</td>\n",
       "      <td>0.000000</td>\n",
       "      <td>10.080000</td>\n",
       "      <td>3.500000</td>\n",
       "      <td>80.000000</td>\n",
       "      <td>0.000000</td>\n",
       "    </tr>\n",
       "    <tr>\n",
       "      <th>25%</th>\n",
       "      <td>0.000000</td>\n",
       "      <td>31.000000</td>\n",
       "      <td>0.000000</td>\n",
       "      <td>0.000000</td>\n",
       "      <td>0.000000</td>\n",
       "      <td>24.600000</td>\n",
       "      <td>4.800000</td>\n",
       "      <td>100.000000</td>\n",
       "      <td>0.000000</td>\n",
       "    </tr>\n",
       "    <tr>\n",
       "      <th>50%</th>\n",
       "      <td>0.000000</td>\n",
       "      <td>47.000000</td>\n",
       "      <td>0.000000</td>\n",
       "      <td>0.000000</td>\n",
       "      <td>0.000000</td>\n",
       "      <td>27.320000</td>\n",
       "      <td>5.800000</td>\n",
       "      <td>140.000000</td>\n",
       "      <td>0.000000</td>\n",
       "    </tr>\n",
       "    <tr>\n",
       "      <th>75%</th>\n",
       "      <td>1.000000</td>\n",
       "      <td>61.000000</td>\n",
       "      <td>0.000000</td>\n",
       "      <td>0.000000</td>\n",
       "      <td>2.000000</td>\n",
       "      <td>31.100000</td>\n",
       "      <td>6.200000</td>\n",
       "      <td>159.000000</td>\n",
       "      <td>0.000000</td>\n",
       "    </tr>\n",
       "    <tr>\n",
       "      <th>max</th>\n",
       "      <td>1.000000</td>\n",
       "      <td>80.000000</td>\n",
       "      <td>1.000000</td>\n",
       "      <td>1.000000</td>\n",
       "      <td>4.000000</td>\n",
       "      <td>91.820000</td>\n",
       "      <td>9.000000</td>\n",
       "      <td>300.000000</td>\n",
       "      <td>1.000000</td>\n",
       "    </tr>\n",
       "  </tbody>\n",
       "</table>\n",
       "</div>"
      ],
      "text/plain": [
       "             gender           age  hypertension  heart_disease  \\\n",
       "count  64172.000000  64172.000000  64172.000000   64172.000000   \n",
       "mean       0.394565     46.547268      0.097909       0.047045   \n",
       "std        0.488761     19.539695      0.297194       0.211738   \n",
       "min        0.000000      0.160000      0.000000       0.000000   \n",
       "25%        0.000000     31.000000      0.000000       0.000000   \n",
       "50%        0.000000     47.000000      0.000000       0.000000   \n",
       "75%        1.000000     61.000000      0.000000       0.000000   \n",
       "max        1.000000     80.000000      1.000000       1.000000   \n",
       "\n",
       "       smoking_history           bmi   HbA1c_level  blood_glucose_level  \\\n",
       "count     64172.000000  64172.000000  64172.000000         64172.000000   \n",
       "mean          0.986708     28.424262      5.564279           139.629792   \n",
       "std           1.286545      6.515975      1.095535            42.166693   \n",
       "min           0.000000     10.080000      3.500000            80.000000   \n",
       "25%           0.000000     24.600000      4.800000           100.000000   \n",
       "50%           0.000000     27.320000      5.800000           140.000000   \n",
       "75%           2.000000     31.100000      6.200000           159.000000   \n",
       "max           4.000000     91.820000      9.000000           300.000000   \n",
       "\n",
       "           diabetes  \n",
       "count  64172.000000  \n",
       "mean       0.109799  \n",
       "std        0.312641  \n",
       "min        0.000000  \n",
       "25%        0.000000  \n",
       "50%        0.000000  \n",
       "75%        0.000000  \n",
       "max        1.000000  "
      ]
     },
     "execution_count": 12,
     "metadata": {},
     "output_type": "execute_result"
    }
   ],
   "source": [
    "new_df.describe()"
   ]
  },
  {
   "cell_type": "code",
   "execution_count": 13,
   "id": "6b023cf5",
   "metadata": {
    "execution": {
     "iopub.execute_input": "2024-05-03T03:28:31.401135Z",
     "iopub.status.busy": "2024-05-03T03:28:31.400740Z",
     "iopub.status.idle": "2024-05-03T03:28:31.409101Z",
     "shell.execute_reply": "2024-05-03T03:28:31.407363Z"
    },
    "id": "wALBiiw-aYu7",
    "outputId": "642535f6-4ea8-4347-8437-6c7ba25fc4bc",
    "papermill": {
     "duration": 0.020007,
     "end_time": "2024-05-03T03:28:31.411131",
     "exception": false,
     "start_time": "2024-05-03T03:28:31.391124",
     "status": "completed"
    },
    "tags": []
   },
   "outputs": [
    {
     "data": {
      "text/plain": [
       "(64172, 9)"
      ]
     },
     "execution_count": 13,
     "metadata": {},
     "output_type": "execute_result"
    }
   ],
   "source": [
    "new_df.shape"
   ]
  },
  {
   "cell_type": "code",
   "execution_count": 14,
   "id": "ad0779ee",
   "metadata": {
    "execution": {
     "iopub.execute_input": "2024-05-03T03:28:31.486381Z",
     "iopub.status.busy": "2024-05-03T03:28:31.485660Z",
     "iopub.status.idle": "2024-05-03T03:28:31.497660Z",
     "shell.execute_reply": "2024-05-03T03:28:31.496403Z"
    },
    "id": "j1f-0okjbGA5",
    "papermill": {
     "duration": 0.024477,
     "end_time": "2024-05-03T03:28:31.499943",
     "exception": false,
     "start_time": "2024-05-03T03:28:31.475466",
     "status": "completed"
    },
    "tags": []
   },
   "outputs": [],
   "source": [
    "from sklearn import preprocessing\n",
    "pre_process = preprocessing.StandardScaler().fit(X)\n",
    "x_transform = pre_process.fit_transform(X)"
   ]
  },
  {
   "cell_type": "code",
   "execution_count": 15,
   "id": "3ec914e6",
   "metadata": {
    "execution": {
     "iopub.execute_input": "2024-05-03T03:28:31.519813Z",
     "iopub.status.busy": "2024-05-03T03:28:31.519447Z",
     "iopub.status.idle": "2024-05-03T03:28:31.525783Z",
     "shell.execute_reply": "2024-05-03T03:28:31.524575Z"
    },
    "id": "p5X4ANmeV6H2",
    "papermill": {
     "duration": 0.018901,
     "end_time": "2024-05-03T03:28:31.527948",
     "exception": false,
     "start_time": "2024-05-03T03:28:31.509047",
     "status": "completed"
    },
    "tags": []
   },
   "outputs": [],
   "source": [
    "# Use x and y variables to split the training data into train and test set\n",
    "from sklearn.model_selection import train_test_split\n",
    "x_train, x_test, y_train, y_test = train_test_split(x_transform, y, test_size = .2, random_state = 101)"
   ]
  },
  {
   "cell_type": "markdown",
   "id": "d9403780",
   "metadata": {},
   "source": [
    "# LogisticRegression"
   ]
  },
  {
   "cell_type": "code",
   "execution_count": 16,
   "id": "2b1fadbf",
   "metadata": {
    "execution": {
     "iopub.execute_input": "2024-05-03T03:28:31.576129Z",
     "iopub.status.busy": "2024-05-03T03:28:31.575713Z",
     "iopub.status.idle": "2024-05-03T03:28:31.596949Z",
     "shell.execute_reply": "2024-05-03T03:28:31.595786Z"
    },
    "id": "TJMJqktPboBo",
    "outputId": "9da919d2-6ff3-46a4-803d-dd6dfc4a22f5",
    "papermill": {
     "duration": 0.034219,
     "end_time": "2024-05-03T03:28:31.599503",
     "exception": false,
     "start_time": "2024-05-03T03:28:31.565284",
     "status": "completed"
    },
    "tags": []
   },
   "outputs": [
    {
     "name": "stdout",
     "output_type": "stream",
     "text": [
      "Logistic Regression\n"
     ]
    },
    {
     "data": {
      "text/html": [
       "<style>#sk-container-id-1 {color: black;}#sk-container-id-1 pre{padding: 0;}#sk-container-id-1 div.sk-toggleable {background-color: white;}#sk-container-id-1 label.sk-toggleable__label {cursor: pointer;display: block;width: 100%;margin-bottom: 0;padding: 0.3em;box-sizing: border-box;text-align: center;}#sk-container-id-1 label.sk-toggleable__label-arrow:before {content: \"▸\";float: left;margin-right: 0.25em;color: #696969;}#sk-container-id-1 label.sk-toggleable__label-arrow:hover:before {color: black;}#sk-container-id-1 div.sk-estimator:hover label.sk-toggleable__label-arrow:before {color: black;}#sk-container-id-1 div.sk-toggleable__content {max-height: 0;max-width: 0;overflow: hidden;text-align: left;background-color: #f0f8ff;}#sk-container-id-1 div.sk-toggleable__content pre {margin: 0.2em;color: black;border-radius: 0.25em;background-color: #f0f8ff;}#sk-container-id-1 input.sk-toggleable__control:checked~div.sk-toggleable__content {max-height: 200px;max-width: 100%;overflow: auto;}#sk-container-id-1 input.sk-toggleable__control:checked~label.sk-toggleable__label-arrow:before {content: \"▾\";}#sk-container-id-1 div.sk-estimator input.sk-toggleable__control:checked~label.sk-toggleable__label {background-color: #d4ebff;}#sk-container-id-1 div.sk-label input.sk-toggleable__control:checked~label.sk-toggleable__label {background-color: #d4ebff;}#sk-container-id-1 input.sk-hidden--visually {border: 0;clip: rect(1px 1px 1px 1px);clip: rect(1px, 1px, 1px, 1px);height: 1px;margin: -1px;overflow: hidden;padding: 0;position: absolute;width: 1px;}#sk-container-id-1 div.sk-estimator {font-family: monospace;background-color: #f0f8ff;border: 1px dotted black;border-radius: 0.25em;box-sizing: border-box;margin-bottom: 0.5em;}#sk-container-id-1 div.sk-estimator:hover {background-color: #d4ebff;}#sk-container-id-1 div.sk-parallel-item::after {content: \"\";width: 100%;border-bottom: 1px solid gray;flex-grow: 1;}#sk-container-id-1 div.sk-label:hover label.sk-toggleable__label {background-color: #d4ebff;}#sk-container-id-1 div.sk-serial::before {content: \"\";position: absolute;border-left: 1px solid gray;box-sizing: border-box;top: 0;bottom: 0;left: 50%;z-index: 0;}#sk-container-id-1 div.sk-serial {display: flex;flex-direction: column;align-items: center;background-color: white;padding-right: 0.2em;padding-left: 0.2em;position: relative;}#sk-container-id-1 div.sk-item {position: relative;z-index: 1;}#sk-container-id-1 div.sk-parallel {display: flex;align-items: stretch;justify-content: center;background-color: white;position: relative;}#sk-container-id-1 div.sk-item::before, #sk-container-id-1 div.sk-parallel-item::before {content: \"\";position: absolute;border-left: 1px solid gray;box-sizing: border-box;top: 0;bottom: 0;left: 50%;z-index: -1;}#sk-container-id-1 div.sk-parallel-item {display: flex;flex-direction: column;z-index: 1;position: relative;background-color: white;}#sk-container-id-1 div.sk-parallel-item:first-child::after {align-self: flex-end;width: 50%;}#sk-container-id-1 div.sk-parallel-item:last-child::after {align-self: flex-start;width: 50%;}#sk-container-id-1 div.sk-parallel-item:only-child::after {width: 0;}#sk-container-id-1 div.sk-dashed-wrapped {border: 1px dashed gray;margin: 0 0.4em 0.5em 0.4em;box-sizing: border-box;padding-bottom: 0.4em;background-color: white;}#sk-container-id-1 div.sk-label label {font-family: monospace;font-weight: bold;display: inline-block;line-height: 1.2em;}#sk-container-id-1 div.sk-label-container {text-align: center;}#sk-container-id-1 div.sk-container {/* jupyter's `normalize.less` sets `[hidden] { display: none; }` but bootstrap.min.css set `[hidden] { display: none !important; }` so we also need the `!important` here to be able to override the default hidden behavior on the sphinx rendered scikit-learn.org. See: https://github.com/scikit-learn/scikit-learn/issues/21755 */display: inline-block !important;position: relative;}#sk-container-id-1 div.sk-text-repr-fallback {display: none;}</style><div id=\"sk-container-id-1\" class=\"sk-top-container\"><div class=\"sk-text-repr-fallback\"><pre>LogisticRegression()</pre><b>In a Jupyter environment, please rerun this cell to show the HTML representation or trust the notebook. <br />On GitHub, the HTML representation is unable to render, please try loading this page with nbviewer.org.</b></div><div class=\"sk-container\" hidden><div class=\"sk-item\"><div class=\"sk-estimator sk-toggleable\"><input class=\"sk-toggleable__control sk-hidden--visually\" id=\"sk-estimator-id-1\" type=\"checkbox\" checked><label for=\"sk-estimator-id-1\" class=\"sk-toggleable__label sk-toggleable__label-arrow\">LogisticRegression</label><div class=\"sk-toggleable__content\"><pre>LogisticRegression()</pre></div></div></div></div></div>"
      ],
      "text/plain": [
       "LogisticRegression()"
      ]
     },
     "execution_count": 16,
     "metadata": {},
     "output_type": "execute_result"
    }
   ],
   "source": [
    "from sklearn.linear_model import LogisticRegression\n",
    "\n",
    "print('Logistic Regression')\n",
    "log_reg = LogisticRegression(max_iter=100)\n",
    "\n",
    "log_reg.fit(x_train, y_train)"
   ]
  },
  {
   "cell_type": "code",
   "execution_count": 17,
   "id": "b8f1a449",
   "metadata": {
    "execution": {
     "iopub.execute_input": "2024-05-03T03:28:31.621502Z",
     "iopub.status.busy": "2024-05-03T03:28:31.621090Z",
     "iopub.status.idle": "2024-05-03T03:28:31.628630Z",
     "shell.execute_reply": "2024-05-03T03:28:31.627479Z"
    },
    "id": "D0MF9mxwbql9",
    "outputId": "fae710a8-5c74-4228-b32b-1385ff6d70cc",
    "papermill": {
     "duration": 0.021359,
     "end_time": "2024-05-03T03:28:31.631119",
     "exception": false,
     "start_time": "2024-05-03T03:28:31.609760",
     "status": "completed"
    },
    "tags": []
   },
   "outputs": [
    {
     "name": "stdout",
     "output_type": "stream",
     "text": [
      "Logistic Regression\n",
      "------------------------------------------------------------\n",
      "train_accuracy: 0.949490620799813\n",
      "Tasting Accuracy 94.76 %\n"
     ]
    }
   ],
   "source": [
    "print('Logistic Regression')\n",
    "print('--'*30)\n",
    "\n",
    "train_accuracy_log_reg = log_reg.score(x_train,y_train)\n",
    "print(f'train_accuracy: {train_accuracy_log_reg}')\n",
    "\n",
    "y_pred_log_reg = log_reg.predict(x_test)\n",
    "\n",
    "log_reg_accuracy = round(accuracy_score(y_test, y_pred_log_reg) * 100,2)\n",
    "print('Tasting Accuracy', log_reg_accuracy,'%')"
   ]
  },
  {
   "cell_type": "code",
   "execution_count": 18,
   "id": "76800ee7",
   "metadata": {},
   "outputs": [
    {
     "name": "stdout",
     "output_type": "stream",
     "text": [
      "\n",
      "Classification Report (Testing Data):\n",
      "              precision    recall  f1-score   support\n",
      "\n",
      "           0       0.96      0.99      0.97     11425\n",
      "           1       0.86      0.62      0.72      1410\n",
      "\n",
      "    accuracy                           0.95     12835\n",
      "   macro avg       0.91      0.81      0.85     12835\n",
      "weighted avg       0.94      0.95      0.94     12835\n",
      "\n"
     ]
    }
   ],
   "source": [
    "print(\"\\nClassification Report (Testing Data):\")\n",
    "print(classification_report(y_test, y_pred_log_reg))"
   ]
  },
  {
   "cell_type": "code",
   "execution_count": 19,
   "id": "ddb10b08",
   "metadata": {},
   "outputs": [
    {
     "name": "stdout",
     "output_type": "stream",
     "text": [
      "\n",
      "Confusion Matrix (Testing Data):\n",
      "[[11283   142]\n",
      " [  531   879]]\n"
     ]
    }
   ],
   "source": [
    "conf_matrix = confusion_matrix(y_test, y_pred_log_reg)\n",
    "print(\"\\nConfusion Matrix (Testing Data):\")\n",
    "print(conf_matrix)"
   ]
  },
  {
   "cell_type": "code",
   "execution_count": 20,
   "id": "0535b8d5",
   "metadata": {},
   "outputs": [
    {
     "name": "stdout",
     "output_type": "stream",
     "text": [
      "\n",
      "True Positives: 879\n",
      "False Positives: 142\n",
      "True Negatives: 11283\n",
      "False Negatives: 531\n"
     ]
    }
   ],
   "source": [
    "TN, FP, FN, TP = conf_matrix.ravel()\n",
    "\n",
    "# Display TP, FP, TN, FN\n",
    "print(\"\\nTrue Positives:\", TP)\n",
    "print(\"False Positives:\", FP)\n",
    "print(\"True Negatives:\", TN)\n",
    "print(\"False Negatives:\", FN)\n"
   ]
  },
  {
   "cell_type": "code",
   "execution_count": 21,
   "id": "a09a7541",
   "metadata": {},
   "outputs": [
    {
     "data": {
      "image/png": "[encoded data removed]",
      "text/plain": [
       "<Figure size 800x600 with 1 Axes>"
      ]
     },
     "metadata": {},
     "output_type": "display_data"
    }
   ],
   "source": [
    "plt.figure(figsize=(8, 6))\n",
    "sns.heatmap(conf_matrix, annot=True, fmt='d', cmap='Blues', cbar=False, \n",
    "            xticklabels=['Predicted Decrease', 'Predicted Increase'], \n",
    "            yticklabels=['Actual Decrease', 'Actual Increase'])\n",
    "plt.xlabel('Predicted')\n",
    "plt.ylabel('Actual')\n",
    "plt.title('Confusion Matrix')\n",
    "plt.show()"
   ]
  },
  {
   "cell_type": "code",
   "execution_count": 22,
   "id": "2754acf6",
   "metadata": {
    "scrolled": true
   },
   "outputs": [
    {
     "data": {
      "image/png": "[encoded data removed]",
      "text/plain": [
       "<Figure size 1000x600 with 1 Axes>"
      ]
     },
     "metadata": {},
     "output_type": "display_data"
    }
   ],
   "source": [
    "training_errors = []\n",
    "C_values = [0.001, 0.01, 0.1, 1, 10, 100]  # Range of regularization strengths\n",
    "\n",
    "for C in C_values:\n",
    "    log_reg = LogisticRegression(C=C, random_state=42)\n",
    "    log_reg.fit(x_train, y_train)\n",
    "    training_errors.append(1 - log_reg.score(x_train, y_train))\n",
    "\n",
    "plt.figure(figsize=(10, 6))\n",
    "plt.plot(C_values, training_errors, marker='o', linestyle='-')\n",
    "plt.title('Training Error vs Regularization Strength (C)')\n",
    "plt.xlabel('Regularization Strength (C)')\n",
    "plt.ylabel('Training Error')\n",
    "plt.xscale('log')  # Use a logarithmic scale for better visualization\n",
    "plt.grid(True)\n",
    "plt.show()"
   ]
  },
  {
   "cell_type": "code",
   "execution_count": 23,
   "id": "2fe1a4b4",
   "metadata": {},
   "outputs": [
    {
     "name": "stdout",
     "output_type": "stream",
     "text": [
      "0.8054876856464454\n"
     ]
    }
   ],
   "source": [
    "roc_auc = roc_auc_score(y_test, y_pred_log_reg)\n",
    "print(roc_auc)"
   ]
  },
  {
   "cell_type": "markdown",
   "id": "1a5ac783",
   "metadata": {},
   "source": [
    "# DecisionTree"
   ]
  },
  {
   "cell_type": "code",
   "execution_count": 24,
   "id": "469156a6",
   "metadata": {
    "execution": {
     "iopub.execute_input": "2024-05-03T03:28:31.985600Z",
     "iopub.status.busy": "2024-05-03T03:28:31.984549Z",
     "iopub.status.idle": "2024-05-03T03:28:31.999957Z",
     "shell.execute_reply": "2024-05-03T03:28:31.998836Z"
    },
    "id": "hQwDt1DwcG6z",
    "outputId": "ef4e1a74-fa0c-4a29-ad6d-1764d1f462f0",
    "papermill": {
     "duration": 0.029341,
     "end_time": "2024-05-03T03:28:32.002369",
     "exception": false,
     "start_time": "2024-05-03T03:28:31.973028",
     "status": "completed"
    },
    "tags": []
   },
   "outputs": [
    {
     "name": "stdout",
     "output_type": "stream",
     "text": [
      "Decision Tree Classifier\n"
     ]
    },
    {
     "data": {
      "text/html": [
       "<style>#sk-container-id-2 {color: black;}#sk-container-id-2 pre{padding: 0;}#sk-container-id-2 div.sk-toggleable {background-color: white;}#sk-container-id-2 label.sk-toggleable__label {cursor: pointer;display: block;width: 100%;margin-bottom: 0;padding: 0.3em;box-sizing: border-box;text-align: center;}#sk-container-id-2 label.sk-toggleable__label-arrow:before {content: \"▸\";float: left;margin-right: 0.25em;color: #696969;}#sk-container-id-2 label.sk-toggleable__label-arrow:hover:before {color: black;}#sk-container-id-2 div.sk-estimator:hover label.sk-toggleable__label-arrow:before {color: black;}#sk-container-id-2 div.sk-toggleable__content {max-height: 0;max-width: 0;overflow: hidden;text-align: left;background-color: #f0f8ff;}#sk-container-id-2 div.sk-toggleable__content pre {margin: 0.2em;color: black;border-radius: 0.25em;background-color: #f0f8ff;}#sk-container-id-2 input.sk-toggleable__control:checked~div.sk-toggleable__content {max-height: 200px;max-width: 100%;overflow: auto;}#sk-container-id-2 input.sk-toggleable__control:checked~label.sk-toggleable__label-arrow:before {content: \"▾\";}#sk-container-id-2 div.sk-estimator input.sk-toggleable__control:checked~label.sk-toggleable__label {background-color: #d4ebff;}#sk-container-id-2 div.sk-label input.sk-toggleable__control:checked~label.sk-toggleable__label {background-color: #d4ebff;}#sk-container-id-2 input.sk-hidden--visually {border: 0;clip: rect(1px 1px 1px 1px);clip: rect(1px, 1px, 1px, 1px);height: 1px;margin: -1px;overflow: hidden;padding: 0;position: absolute;width: 1px;}#sk-container-id-2 div.sk-estimator {font-family: monospace;background-color: #f0f8ff;border: 1px dotted black;border-radius: 0.25em;box-sizing: border-box;margin-bottom: 0.5em;}#sk-container-id-2 div.sk-estimator:hover {background-color: #d4ebff;}#sk-container-id-2 div.sk-parallel-item::after {content: \"\";width: 100%;border-bottom: 1px solid gray;flex-grow: 1;}#sk-container-id-2 div.sk-label:hover label.sk-toggleable__label {background-color: #d4ebff;}#sk-container-id-2 div.sk-serial::before {content: \"\";position: absolute;border-left: 1px solid gray;box-sizing: border-box;top: 0;bottom: 0;left: 50%;z-index: 0;}#sk-container-id-2 div.sk-serial {display: flex;flex-direction: column;align-items: center;background-color: white;padding-right: 0.2em;padding-left: 0.2em;position: relative;}#sk-container-id-2 div.sk-item {position: relative;z-index: 1;}#sk-container-id-2 div.sk-parallel {display: flex;align-items: stretch;justify-content: center;background-color: white;position: relative;}#sk-container-id-2 div.sk-item::before, #sk-container-id-2 div.sk-parallel-item::before {content: \"\";position: absolute;border-left: 1px solid gray;box-sizing: border-box;top: 0;bottom: 0;left: 50%;z-index: -1;}#sk-container-id-2 div.sk-parallel-item {display: flex;flex-direction: column;z-index: 1;position: relative;background-color: white;}#sk-container-id-2 div.sk-parallel-item:first-child::after {align-self: flex-end;width: 50%;}#sk-container-id-2 div.sk-parallel-item:last-child::after {align-self: flex-start;width: 50%;}#sk-container-id-2 div.sk-parallel-item:only-child::after {width: 0;}#sk-container-id-2 div.sk-dashed-wrapped {border: 1px dashed gray;margin: 0 0.4em 0.5em 0.4em;box-sizing: border-box;padding-bottom: 0.4em;background-color: white;}#sk-container-id-2 div.sk-label label {font-family: monospace;font-weight: bold;display: inline-block;line-height: 1.2em;}#sk-container-id-2 div.sk-label-container {text-align: center;}#sk-container-id-2 div.sk-container {/* jupyter's `normalize.less` sets `[hidden] { display: none; }` but bootstrap.min.css set `[hidden] { display: none !important; }` so we also need the `!important` here to be able to override the default hidden behavior on the sphinx rendered scikit-learn.org. See: https://github.com/scikit-learn/scikit-learn/issues/21755 */display: inline-block !important;position: relative;}#sk-container-id-2 div.sk-text-repr-fallback {display: none;}</style><div id=\"sk-container-id-2\" class=\"sk-top-container\"><div class=\"sk-text-repr-fallback\"><pre>DecisionTreeClassifier()</pre><b>In a Jupyter environment, please rerun this cell to show the HTML representation or trust the notebook. <br />On GitHub, the HTML representation is unable to render, please try loading this page with nbviewer.org.</b></div><div class=\"sk-container\" hidden><div class=\"sk-item\"><div class=\"sk-estimator sk-toggleable\"><input class=\"sk-toggleable__control sk-hidden--visually\" id=\"sk-estimator-id-2\" type=\"checkbox\" checked><label for=\"sk-estimator-id-2\" class=\"sk-toggleable__label sk-toggleable__label-arrow\">DecisionTreeClassifier</label><div class=\"sk-toggleable__content\"><pre>DecisionTreeClassifier()</pre></div></div></div></div></div>"
      ],
      "text/plain": [
       "DecisionTreeClassifier()"
      ]
     },
     "execution_count": 24,
     "metadata": {},
     "output_type": "execute_result"
    }
   ],
   "source": [
    "from sklearn.tree import DecisionTreeClassifier \n",
    "\n",
    "print('Decision Tree Classifier')\n",
    "\n",
    "Dtree = DecisionTreeClassifier()\n",
    "\n",
    "Dtree.fit(x_train, y_train)"
   ]
  },
  {
   "cell_type": "code",
   "execution_count": 25,
   "id": "1784386d",
   "metadata": {},
   "outputs": [],
   "source": [
    "y_pred_train = Dtree.predict(x_train)\n",
    "y_pred_test_DT = Dtree.predict(x_test)"
   ]
  },
  {
   "cell_type": "code",
   "execution_count": 26,
   "id": "fa74bf45",
   "metadata": {},
   "outputs": [],
   "source": [
    "train_accuracy = round(accuracy_score(y_train, y_pred_train) * 100, 2)  # Calculate the training accuracy by comparing predicted values with actual values and rounding to 2 decimal places\n",
    "test_accuracy = round(accuracy_score(y_test, y_pred_test_DT) * 100, 2)  # Calculate the testing accuracy by comparing predicted values with actual values and rounding to 2 decimal places"
   ]
  },
  {
   "cell_type": "code",
   "execution_count": 27,
   "id": "7d3e0d1f",
   "metadata": {},
   "outputs": [
    {
     "name": "stdout",
     "output_type": "stream",
     "text": [
      "=======================================\n",
      "      Decision Tree Classifier        \n",
      "=======================================\n",
      "Training Accuracy: 99.94%\n",
      "Testing Accuracy: 93.86%\n",
      "=======================================\n"
     ]
    }
   ],
   "source": [
    "print('=======================================')\n",
    "print('      Decision Tree Classifier        ')\n",
    "print('=======================================')\n",
    "print(f'Training Accuracy: {train_accuracy:.2f}%')  # Print the training accuracy\n",
    "print(f'Testing Accuracy: {test_accuracy:.2f}%')  # Print the testing accuracy\n",
    "print('=======================================')"
   ]
  },
  {
   "cell_type": "code",
   "execution_count": 28,
   "id": "07c5b5a9",
   "metadata": {},
   "outputs": [
    {
     "name": "stdout",
     "output_type": "stream",
     "text": [
      "\n",
      "Classification Report (Testing Data):\n",
      "              precision    recall  f1-score   support\n",
      "\n",
      "           0       0.97      0.96      0.97     11425\n",
      "           1       0.71      0.75      0.73      1410\n",
      "\n",
      "    accuracy                           0.94     12835\n",
      "   macro avg       0.84      0.86      0.85     12835\n",
      "weighted avg       0.94      0.94      0.94     12835\n",
      "\n"
     ]
    }
   ],
   "source": [
    "# Display classification report for testing data\n",
    "print(\"\\nClassification Report (Testing Data):\")\n",
    "print(classification_report(y_test, y_pred_test_DT))"
   ]
  },
  {
   "cell_type": "code",
   "execution_count": 29,
   "id": "5980738e",
   "metadata": {},
   "outputs": [
    {
     "name": "stdout",
     "output_type": "stream",
     "text": [
      "\n",
      "Confusion Matrix (Testing Data):\n",
      "[[10986   439]\n",
      " [  349  1061]]\n"
     ]
    }
   ],
   "source": [
    "# Calculate confusion matrix for testing data\n",
    "conf_matrix = confusion_matrix(y_test, y_pred_test_DT)\n",
    "print(\"\\nConfusion Matrix (Testing Data):\")\n",
    "print(conf_matrix)"
   ]
  },
  {
   "cell_type": "code",
   "execution_count": 30,
   "id": "de66fbdb",
   "metadata": {},
   "outputs": [
    {
     "name": "stdout",
     "output_type": "stream",
     "text": [
      "\n",
      "True Positives: 1061\n",
      "False Positives: 439\n",
      "True Negatives: 10986\n",
      "False Negatives: 349\n"
     ]
    }
   ],
   "source": [
    "# Extract TP, FP, TN, FN from confusion matrix\n",
    "TN, FP, FN, TP = conf_matrix.ravel()\n",
    "\n",
    "# Display TP, FP, TN, FN\n",
    "print(\"\\nTrue Positives:\", TP)\n",
    "print(\"False Positives:\", FP)\n",
    "print(\"True Negatives:\", TN)\n",
    "print(\"False Negatives:\", FN)\n",
    "\n",
    "training_errors = []\n",
    "for depth in range(1, 21):\n",
    "    Dtree.set_params(max_depth=depth)\n",
    "    Dtree.fit(x_train, y_train)\n",
    "    training_errors.append(1 - Dtree.score(x_train, y_train))\n"
   ]
  },
  {
   "cell_type": "code",
   "execution_count": 31,
   "id": "d79b351a",
   "metadata": {},
   "outputs": [
    {
     "data": {
      "image/png": "[encoded data removed]",
      "text/plain": [
       "<Figure size 800x600 with 1 Axes>"
      ]
     },
     "metadata": {},
     "output_type": "display_data"
    }
   ],
   "source": [
    "# Plot confusion matrix\n",
    "plt.figure(figsize=(8, 6))  # Set the figure size for the plot\n",
    "sns.heatmap(conf_matrix, annot=True, fmt='d', cmap='Blues', cbar=False)  # Create a heatmap of the confusion matrix using Seaborn\n",
    "plt.xlabel('Predicted Label')  # Set the label for the x-axis\n",
    "plt.ylabel('True Label')  # Set the label for the y-axis\n",
    "plt.title('Confusion Matrix')  # Set the title of the plot\n",
    "plt.show()  # Display the plot"
   ]
  },
  {
   "cell_type": "code",
   "execution_count": 32,
   "id": "5ec7e3b3",
   "metadata": {},
   "outputs": [
    {
     "data": {
      "image/png": "[encoded data removed]",
      "text/plain": [
       "<Figure size 640x480 with 1 Axes>"
      ]
     },
     "metadata": {},
     "output_type": "display_data"
    }
   ],
   "source": [
    "max_depth_list = range(1, 9)\n",
    "train_errors = []\n",
    "test_errors = []\n",
    "\n",
    "for x in max_depth_list:\n",
    "    dtc = DecisionTreeClassifier(max_depth=x) \n",
    "    dtc.fit(x_train, y_train)\n",
    "    train_z = dtc.predict(x_train)\n",
    "    test_z = dtc.predict(x_test)\n",
    "    train_errors.append(1 - accuracy_score(y_train, train_z))\n",
    "    test_errors.append(1 - accuracy_score(y_test, test_z))\n",
    "\n",
    "x = np.arange(len(max_depth_list))\n",
    "plt.plot(x, train_errors, label='Training Error') \n",
    "plt.plot(x, test_errors, label='Testing Error') \n",
    "plt.xlabel('Max Depth')  # Label x-axis\n",
    "plt.ylabel('Predicted Error') \n",
    "plt.legend() \n",
    "plt.show()"
   ]
  },
  {
   "cell_type": "code",
   "execution_count": 33,
   "id": "8c379c27",
   "metadata": {},
   "outputs": [
    {
     "name": "stdout",
     "output_type": "stream",
     "text": [
      "0.8570288809224514\n"
     ]
    }
   ],
   "source": [
    "roc_auc = roc_auc_score(y_test, y_pred_test_DT)\n",
    "print(roc_auc)"
   ]
  },
  {
   "cell_type": "markdown",
   "id": "358ffb19",
   "metadata": {},
   "source": [
    "# Multilayer perceptron"
   ]
  },
  {
   "cell_type": "code",
   "execution_count": 34,
   "id": "92ea15b9",
   "metadata": {},
   "outputs": [],
   "source": [
    "from sklearn.neural_network import MLPClassifier"
   ]
  },
  {
   "cell_type": "code",
   "execution_count": 35,
   "id": "03554693",
   "metadata": {},
   "outputs": [
    {
     "data": {
      "text/html": [
       "<style>#sk-container-id-3 {color: black;}#sk-container-id-3 pre{padding: 0;}#sk-container-id-3 div.sk-toggleable {background-color: white;}#sk-container-id-3 label.sk-toggleable__label {cursor: pointer;display: block;width: 100%;margin-bottom: 0;padding: 0.3em;box-sizing: border-box;text-align: center;}#sk-container-id-3 label.sk-toggleable__label-arrow:before {content: \"▸\";float: left;margin-right: 0.25em;color: #696969;}#sk-container-id-3 label.sk-toggleable__label-arrow:hover:before {color: black;}#sk-container-id-3 div.sk-estimator:hover label.sk-toggleable__label-arrow:before {color: black;}#sk-container-id-3 div.sk-toggleable__content {max-height: 0;max-width: 0;overflow: hidden;text-align: left;background-color: #f0f8ff;}#sk-container-id-3 div.sk-toggleable__content pre {margin: 0.2em;color: black;border-radius: 0.25em;background-color: #f0f8ff;}#sk-container-id-3 input.sk-toggleable__control:checked~div.sk-toggleable__content {max-height: 200px;max-width: 100%;overflow: auto;}#sk-container-id-3 input.sk-toggleable__control:checked~label.sk-toggleable__label-arrow:before {content: \"▾\";}#sk-container-id-3 div.sk-estimator input.sk-toggleable__control:checked~label.sk-toggleable__label {background-color: #d4ebff;}#sk-container-id-3 div.sk-label input.sk-toggleable__control:checked~label.sk-toggleable__label {background-color: #d4ebff;}#sk-container-id-3 input.sk-hidden--visually {border: 0;clip: rect(1px 1px 1px 1px);clip: rect(1px, 1px, 1px, 1px);height: 1px;margin: -1px;overflow: hidden;padding: 0;position: absolute;width: 1px;}#sk-container-id-3 div.sk-estimator {font-family: monospace;background-color: #f0f8ff;border: 1px dotted black;border-radius: 0.25em;box-sizing: border-box;margin-bottom: 0.5em;}#sk-container-id-3 div.sk-estimator:hover {background-color: #d4ebff;}#sk-container-id-3 div.sk-parallel-item::after {content: \"\";width: 100%;border-bottom: 1px solid gray;flex-grow: 1;}#sk-container-id-3 div.sk-label:hover label.sk-toggleable__label {background-color: #d4ebff;}#sk-container-id-3 div.sk-serial::before {content: \"\";position: absolute;border-left: 1px solid gray;box-sizing: border-box;top: 0;bottom: 0;left: 50%;z-index: 0;}#sk-container-id-3 div.sk-serial {display: flex;flex-direction: column;align-items: center;background-color: white;padding-right: 0.2em;padding-left: 0.2em;position: relative;}#sk-container-id-3 div.sk-item {position: relative;z-index: 1;}#sk-container-id-3 div.sk-parallel {display: flex;align-items: stretch;justify-content: center;background-color: white;position: relative;}#sk-container-id-3 div.sk-item::before, #sk-container-id-3 div.sk-parallel-item::before {content: \"\";position: absolute;border-left: 1px solid gray;box-sizing: border-box;top: 0;bottom: 0;left: 50%;z-index: -1;}#sk-container-id-3 div.sk-parallel-item {display: flex;flex-direction: column;z-index: 1;position: relative;background-color: white;}#sk-container-id-3 div.sk-parallel-item:first-child::after {align-self: flex-end;width: 50%;}#sk-container-id-3 div.sk-parallel-item:last-child::after {align-self: flex-start;width: 50%;}#sk-container-id-3 div.sk-parallel-item:only-child::after {width: 0;}#sk-container-id-3 div.sk-dashed-wrapped {border: 1px dashed gray;margin: 0 0.4em 0.5em 0.4em;box-sizing: border-box;padding-bottom: 0.4em;background-color: white;}#sk-container-id-3 div.sk-label label {font-family: monospace;font-weight: bold;display: inline-block;line-height: 1.2em;}#sk-container-id-3 div.sk-label-container {text-align: center;}#sk-container-id-3 div.sk-container {/* jupyter's `normalize.less` sets `[hidden] { display: none; }` but bootstrap.min.css set `[hidden] { display: none !important; }` so we also need the `!important` here to be able to override the default hidden behavior on the sphinx rendered scikit-learn.org. See: https://github.com/scikit-learn/scikit-learn/issues/21755 */display: inline-block !important;position: relative;}#sk-container-id-3 div.sk-text-repr-fallback {display: none;}</style><div id=\"sk-container-id-3\" class=\"sk-top-container\"><div class=\"sk-text-repr-fallback\"><pre>MLPClassifier(hidden_layer_sizes=(100, 50), max_iter=500, random_state=42)</pre><b>In a Jupyter environment, please rerun this cell to show the HTML representation or trust the notebook. <br />On GitHub, the HTML representation is unable to render, please try loading this page with nbviewer.org.</b></div><div class=\"sk-container\" hidden><div class=\"sk-item\"><div class=\"sk-estimator sk-toggleable\"><input class=\"sk-toggleable__control sk-hidden--visually\" id=\"sk-estimator-id-3\" type=\"checkbox\" checked><label for=\"sk-estimator-id-3\" class=\"sk-toggleable__label sk-toggleable__label-arrow\">MLPClassifier</label><div class=\"sk-toggleable__content\"><pre>MLPClassifier(hidden_layer_sizes=(100, 50), max_iter=500, random_state=42)</pre></div></div></div></div></div>"
      ],
      "text/plain": [
       "MLPClassifier(hidden_layer_sizes=(100, 50), max_iter=500, random_state=42)"
      ]
     },
     "execution_count": 35,
     "metadata": {},
     "output_type": "execute_result"
    }
   ],
   "source": [
    "clfML = MLPClassifier(hidden_layer_sizes=(100, 50), activation='relu', solver='adam', max_iter=500, random_state=42)\n",
    "\n",
    "clfML.fit(x_train, y_train)\n"
   ]
  },
  {
   "cell_type": "code",
   "execution_count": 37,
   "id": "1e6c469a",
   "metadata": {},
   "outputs": [
    {
     "name": "stdout",
     "output_type": "stream",
     "text": [
      "\n",
      "Training Accuracy: 0.9665348578997605\n",
      "Testing Accuracy: 0.9611219322165953\n"
     ]
    }
   ],
   "source": [
    "y_train_pred = clfML.predict(x_train)\n",
    "\n",
    "y_test_pred_ML = clfML.predict(x_test)\n",
    "\n",
    "train_accuracy_ML = accuracy_score(y_train, y_train_pred)\n",
    "print(\"\\nTraining Accuracy:\", train_accuracy_ML)\n",
    "\n",
    "test_accuracy_ML = accuracy_score(y_test, y_test_pred_ML)\n",
    "print(\"Testing Accuracy:\", test_accuracy_ML)"
   ]
  },
  {
   "cell_type": "code",
   "execution_count": 38,
   "id": "d6373975",
   "metadata": {},
   "outputs": [
    {
     "name": "stdout",
     "output_type": "stream",
     "text": [
      "\n",
      "Classification Report (Testing Data):\n",
      "              precision    recall  f1-score   support\n",
      "\n",
      "           0       0.96      0.99      0.98     11425\n",
      "           1       0.93      0.70      0.80      1410\n",
      "\n",
      "    accuracy                           0.96     12835\n",
      "   macro avg       0.95      0.85      0.89     12835\n",
      "weighted avg       0.96      0.96      0.96     12835\n",
      "\n"
     ]
    }
   ],
   "source": [
    "print(\"\\nClassification Report (Testing Data):\")\n",
    "print(classification_report(y_test, y_test_pred_ML))"
   ]
  },
  {
   "cell_type": "code",
   "execution_count": 39,
   "id": "176b63b7",
   "metadata": {},
   "outputs": [
    {
     "name": "stdout",
     "output_type": "stream",
     "text": [
      "\n",
      "Confusion Matrix (Testing Data):\n",
      "[[11351    74]\n",
      " [  425   985]]\n"
     ]
    }
   ],
   "source": [
    "conf_matrix = confusion_matrix(y_test, y_test_pred_ML)\n",
    "print(\"\\nConfusion Matrix (Testing Data):\")\n",
    "print(conf_matrix)"
   ]
  },
  {
   "cell_type": "code",
   "execution_count": 40,
   "id": "344ced68",
   "metadata": {},
   "outputs": [
    {
     "name": "stdout",
     "output_type": "stream",
     "text": [
      "\n",
      "True Positives: 985\n",
      "False Positives: 74\n",
      "True Negatives: 11351\n",
      "False Negatives: 425\n"
     ]
    }
   ],
   "source": [
    "TN, FP, FN, TP = conf_matrix.ravel()\n",
    "\n",
    "# Display TP, FP, TN, FN\n",
    "print(\"\\nTrue Positives:\", TP)\n",
    "print(\"False Positives:\", FP)\n",
    "print(\"True Negatives:\", TN)\n",
    "print(\"False Negatives:\", FN)\n"
   ]
  },
  {
   "cell_type": "code",
   "execution_count": 41,
   "id": "a15e22f4",
   "metadata": {},
   "outputs": [
    {
     "data": {
      "image/png": "[encoded data removed]",
      "text/plain": [
       "<Figure size 800x600 with 1 Axes>"
      ]
     },
     "metadata": {},
     "output_type": "display_data"
    }
   ],
   "source": [
    "plt.figure(figsize=(8, 6))\n",
    "sns.heatmap(conf_matrix, annot=True, fmt='d', cmap='Blues', cbar=False, \n",
    "            xticklabels=['Predicted Decrease', 'Predicted Increase'], \n",
    "            yticklabels=['Actual Decrease', 'Actual Increase'])\n",
    "plt.xlabel('Predicted')\n",
    "plt.ylabel('Actual')\n",
    "plt.title('Confusion Matrix')\n",
    "plt.show()"
   ]
  },
  {
   "cell_type": "code",
   "execution_count": 42,
   "id": "3f4d0020",
   "metadata": {},
   "outputs": [
    {
     "data": {
      "image/png": "[encoded data removed]",
      "text/plain": [
       "<Figure size 1000x600 with 1 Axes>"
      ]
     },
     "metadata": {},
     "output_type": "display_data"
    }
   ],
   "source": [
    "train_errors = clfML.loss_curve_\n",
    "plt.figure(figsize=(10, 6))\n",
    "plt.plot(np.arange(len(train_errors)), train_errors, marker='o', linestyle='-')\n",
    "plt.title('Training Error vs Number of Iterations')\n",
    "plt.xlabel('Number of Iterations')\n",
    "plt.ylabel('Training Error')\n",
    "plt.grid(True)\n",
    "plt.show()"
   ]
  },
  {
   "cell_type": "code",
   "execution_count": 43,
   "id": "7a1cbf39",
   "metadata": {},
   "outputs": [
    {
     "name": "stdout",
     "output_type": "stream",
     "text": [
      "0.8460522681068329\n"
     ]
    }
   ],
   "source": [
    "roc_auc = roc_auc_score(y_test, y_test_pred_ML)\n",
    "print(roc_auc)"
   ]
  }
 ],
 "metadata": {
  "colab": {
   "provenance": []
  },
  "kaggle": {
   "accelerator": "none",
   "dataSources": [
    {
     "datasetId": 2619659,
     "sourceId": 4476380,
     "sourceType": "datasetVersion"
    }
   ],
   "dockerImageVersionId": 30698,
   "isGpuEnabled": false,
   "isInternetEnabled": true,
   "language": "python",
   "sourceType": "notebook"
  },
  "kernelspec": {
   "display_name": "Python 3 (ipykernel)",
   "language": "python",
   "name": "python3"
  },
  "language_info": {
   "codemirror_mode": {
    "name": "ipython",
    "version": 3
   },
   "file_extension": ".py",
   "mimetype": "text/x-python",
   "name": "python",
   "nbconvert_exporter": "python",
   "pygments_lexer": "ipython3",
   "version": "3.11.5"
  },
  "papermill": {
   "default_parameters": {},
   "duration": 9.47337,
   "end_time": "2024-05-03T03:28:34.256506",
   "environment_variables": {},
   "exception": null,
   "input_path": "__notebook__.ipynb",
   "output_path": "__notebook__.ipynb",
   "parameters": {},
   "start_time": "2024-05-03T03:28:24.783136",
   "version": "2.5.0"
  }
 },
 "nbformat": 4,
 "nbformat_minor": 5
}
